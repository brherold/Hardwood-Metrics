{
 "cells": [
  {
   "cell_type": "code",
   "execution_count": null,
   "metadata": {},
   "outputs": [
    {
     "name": "stdout",
     "output_type": "stream",
     "text": [
      "['http://onlinecollegebasketball.org/game/1027313', 'http://onlinecollegebasketball.org/game/1027756']\n"
     ]
    }
   ],
   "source": [
    "from bs4 import BeautifulSoup\n",
    "import requests\n",
    "\n",
    "teamScheduleUrl = \"http://onlinecollegebasketball.org/schedule/533\"\n",
    "\n",
    "page = requests.get(teamScheduleUrl)\n",
    "scheduleSoup = BeautifulSoup(page.text,\"html\")\n",
    "\n",
    "columnList = scheduleSoup.find_all(\"tr\")\n",
    "\n",
    "gameList = []\n",
    "for row in columnList:\n",
    "    rowData = row.find_all(\"td\")\n",
    "    if len(rowData) == 8 and rowData[5].text != \"NPY\":\n",
    "      gameList.append(\"http://onlinecollegebasketball.org\" + rowData[5].find(\"a\").get(\"href\"))\n",
    "\n"
   ]
  }
 ],
 "metadata": {
  "kernelspec": {
   "display_name": "Python 3",
   "language": "python",
   "name": "python3"
  },
  "language_info": {
   "codemirror_mode": {
    "name": "ipython",
    "version": 3
   },
   "file_extension": ".py",
   "mimetype": "text/x-python",
   "name": "python",
   "nbconvert_exporter": "python",
   "pygments_lexer": "ipython3",
   "version": "3.10.11"
  }
 },
 "nbformat": 4,
 "nbformat_minor": 2
}
