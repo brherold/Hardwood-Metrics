{
 "cells": [
  {
   "cell_type": "code",
   "execution_count": 30,
   "metadata": {},
   "outputs": [
    {
     "name": "stdout",
     "output_type": "stream",
     "text": [
      "1005254\n",
      "{'name': 'Assumption Greyhounds', 'teamCode': 533, 'players': [{'name': 'Pruitt', 'playerCode': 196605, 'position': 'SF', 'shots': {'Finishing': [0, 1], 'Inside Shot': [1, 1], 'Mid-Range': [3, 6], '3-Pointer': [0, 3]}, 'driving': [1, 1]}, {'name': 'Lewis', 'playerCode': 195977, 'position': 'PF', 'shots': {'Finishing': [0, 0], 'Inside Shot': [1, 1], 'Mid-Range': [2, 2], '3-Pointer': [2, 5]}, 'driving': [0, 1]}, {'name': 'Lay', 'playerCode': 199449, 'position': 'C', 'shots': {'Finishing': [0, 0], 'Inside Shot': [3, 3], 'Mid-Range': [0, 0], '3-Pointer': [0, 0]}, 'driving': [0, 0]}, {'name': 'Jaramillo', 'playerCode': 205369, 'position': 'SG', 'shots': {'Finishing': [1, 1], 'Inside Shot': [0, 0], 'Mid-Range': [1, 1], '3-Pointer': [2, 8]}, 'driving': [0, 0]}, {'name': 'Munoz', 'playerCode': 190887, 'position': 'PG', 'shots': {'Finishing': [3, 3], 'Inside Shot': [0, 0], 'Mid-Range': [0, 2], '3-Pointer': [0, 2]}, 'driving': [6, 11]}, {'name': 'Murphy', 'playerCode': 198167, 'position': 'PG', 'shots': {'Finishing': [1, 1], 'Inside Shot': [0, 0], 'Mid-Range': [0, 0], '3-Pointer': [2, 3]}, 'driving': [0, 0]}, {'name': 'Black', 'playerCode': 194948, 'position': 'SG', 'shots': {'Finishing': [0, 1], 'Inside Shot': [1, 1], 'Mid-Range': [1, 1], '3-Pointer': [0, 2]}, 'driving': [2, 4]}, {'name': 'Schwarz', 'playerCode': 205173, 'position': 'C', 'shots': {'Finishing': [0, 0], 'Inside Shot': [1, 2], 'Mid-Range': [0, 1], '3-Pointer': [0, 1]}, 'driving': [0, 0]}, {'name': 'Perkins', 'playerCode': 202447, 'position': 'SG', 'shots': {'Finishing': [1, 1], 'Inside Shot': [0, 1], 'Mid-Range': [1, 1], '3-Pointer': [3, 6]}, 'driving': [0, 0]}], 'totalShots': {'Finishing': [6, 8], 'Inside Shot': [7, 9], 'Mid-Range': [8, 14], '3-Pointer': [9, 30]}, 'totalDriving': [9, 17], 'defense': {'man-to-man': {'Finishing': [0, 0], 'Inside Shot': [4, 4], 'Mid-Range': [1, 4], '3-Pointer': [1, 2], 'Turnovers': [4, 14]}, 'man-to-man defense packed': {'Finishing': [0, 0], 'Inside Shot': [0, 0], 'Mid-Range': [0, 0], '3-Pointer': [0, 0], 'Turnovers': [0, 0]}, 'man-to-man defense extended': {'Finishing': [0, 0], 'Inside Shot': [1, 1], 'Mid-Range': [0, 0], '3-Pointer': [0, 1], 'Turnovers': [0, 2]}, 'zone': {'Finishing': [0, 0], 'Inside Shot': [1, 2], 'Mid-Range': [1, 5], '3-Pointer': [3, 5], 'Turnovers': [3, 15]}, 'zone defense packed': {'Finishing': [0, 0], 'Inside Shot': [0, 0], 'Mid-Range': [0, 0], '3-Pointer': [0, 0], 'Turnovers': [0, 0]}, 'zone defense extended': {'Finishing': [0, 0], 'Inside Shot': [0, 0], 'Mid-Range': [0, 0], '3-Pointer': [0, 0], 'Turnovers': [0, 0]}, 'pressure': {'Finishing': [0, 0], 'Inside Shot': [4, 6], 'Mid-Range': [2, 3], '3-Pointer': [2, 5], 'Turnovers': [3, 17]}, 'transition': {'Finishing': [3, 4], 'Inside Shot': [0, 0], 'Mid-Range': [2, 2], '3-Pointer': [0, 1], 'Turnovers': [0, 7]}, 'half-court': {'Finishing': [0, 0], 'Inside Shot': [5, 6], 'Mid-Range': [1, 3], '3-Pointer': [0, 0], 'Turnovers': [4, 13]}}}\n",
      "{'name': 'American International Yellow Jackets', 'teamCode': 540, 'players': [{'name': 'Vail', 'playerCode': 191852, 'position': 'SF', 'shots': {'Finishing': [1, 1], 'Inside Shot': [3, 3], 'Mid-Range': [3, 6], '3-Pointer': [0, 0]}, 'driving': [1, 1]}, {'name': 'Corrales', 'playerCode': 199381, 'position': 'PF', 'shots': {'Finishing': [0, 0], 'Inside Shot': [2, 2], 'Mid-Range': [0, 0], '3-Pointer': [1, 3]}, 'driving': [0, 0]}, {'name': 'Dolf', 'playerCode': 190461, 'position': 'C', 'shots': {'Finishing': [0, 0], 'Inside Shot': [2, 4], 'Mid-Range': [0, 2], '3-Pointer': [0, 0]}, 'driving': [2, 3]}, {'name': 'McNeil', 'playerCode': 192287, 'position': 'SG', 'shots': {'Finishing': [1, 2], 'Inside Shot': [1, 1], 'Mid-Range': [0, 1], '3-Pointer': [1, 4]}, 'driving': [0, 2]}, {'name': 'Ziegler', 'playerCode': 201115, 'position': 'PG', 'shots': {'Finishing': [0, 0], 'Inside Shot': [1, 1], 'Mid-Range': [1, 4], '3-Pointer': [0, 2]}, 'driving': [1, 5]}, {'name': 'Harding', 'playerCode': 190405, 'position': 'PF', 'shots': {'Finishing': [0, 0], 'Inside Shot': [2, 2], 'Mid-Range': [1, 1], '3-Pointer': [0, 0]}, 'driving': [0, 0]}, {'name': 'Temple', 'playerCode': 202300, 'position': 'SG', 'shots': {'Finishing': [1, 1], 'Inside Shot': [1, 1], 'Mid-Range': [2, 3], '3-Pointer': [3, 4]}, 'driving': [0, 0]}, {'name': 'Smith', 'playerCode': 201430, 'position': 'C', 'shots': {'Finishing': [0, 0], 'Inside Shot': [3, 5], 'Mid-Range': [0, 0], '3-Pointer': [1, 1]}, 'driving': [0, 0]}], 'totalShots': {'Finishing': [3, 4], 'Inside Shot': [15, 19], 'Mid-Range': [7, 17], '3-Pointer': [6, 14]}, 'totalDriving': [4, 11], 'defense': {'man-to-man': {'Finishing': [0, 0], 'Inside Shot': [0, 1], 'Mid-Range': [0, 0], '3-Pointer': [0, 2], 'Turnovers': [0, 3]}, 'man-to-man defense packed': {'Finishing': [0, 0], 'Inside Shot': [0, 0], 'Mid-Range': [0, 0], '3-Pointer': [0, 0], 'Turnovers': [0, 0]}, 'man-to-man defense extended': {'Finishing': [1, 1], 'Inside Shot': [5, 6], 'Mid-Range': [5, 9], '3-Pointer': [4, 13], 'Turnovers': [4, 33]}, 'zone': {'Finishing': [0, 0], 'Inside Shot': [0, 0], 'Mid-Range': [0, 0], '3-Pointer': [1, 1], 'Turnovers': [1, 2]}, 'zone defense packed': {'Finishing': [0, 0], 'Inside Shot': [0, 0], 'Mid-Range': [0, 0], '3-Pointer': [0, 0], 'Turnovers': [0, 0]}, 'zone defense extended': {'Finishing': [1, 1], 'Inside Shot': [0, 0], 'Mid-Range': [1, 2], '3-Pointer': [1, 3], 'Turnovers': [2, 8]}, 'pressure': {'Finishing': [0, 1], 'Inside Shot': [0, 0], 'Mid-Range': [0, 1], '3-Pointer': [0, 1], 'Turnovers': [0, 3]}, 'transition': {'Finishing': [4, 4], 'Inside Shot': [0, 0], 'Mid-Range': [0, 0], '3-Pointer': [2, 3], 'Turnovers': [0, 7]}, 'half-court': {'Finishing': [0, 1], 'Inside Shot': [2, 2], 'Mid-Range': [2, 2], '3-Pointer': [1, 7], 'Turnovers': [4, 16]}}}\n"
     ]
    }
   ],
   "source": [
    "game_data = {'gameCode': '1005254', 'seasonYear': 2043, 'gameType': 'Non-Conference', 'awayTeam': {'name': 'American International Yellow Jackets', 'teamCode': 540, 'players': [{'name': 'Vail', 'playerCode': 191852, 'position': 'SF', 'shots': {'Finishing': [1, 1], 'Inside Shot': [3, 3], 'Mid-Range': [3, 6], '3-Pointer': [0, 0]}, 'driving': [1, 1]}, {'name': 'Corrales', 'playerCode': 199381, 'position': 'PF', 'shots': {'Finishing': [0, 0], 'Inside Shot': [2, 2], 'Mid-Range': [0, 0], '3-Pointer': [1, 3]}, 'driving': [0, 0]}, {'name': 'Dolf', 'playerCode': 190461, 'position': 'C', 'shots': {'Finishing': [0, 0], 'Inside Shot': [2, 4], 'Mid-Range': [0, 2], '3-Pointer': [0, 0]}, 'driving': [2, 3]}, {'name': 'McNeil', 'playerCode': 192287, 'position': 'SG', 'shots': {'Finishing': [1, 2], 'Inside Shot': [1, 1], 'Mid-Range': [0, 1], '3-Pointer': [1, 4]}, 'driving': [0, 2]}, {'name': 'Ziegler', 'playerCode': 201115, 'position': 'PG', 'shots': {'Finishing': [0, 0], 'Inside Shot': [1, 1], 'Mid-Range': [1, 4], '3-Pointer': [0, 2]}, 'driving': [1, 5]}, {'name': 'Harding', 'playerCode': 190405, 'position': 'PF', 'shots': {'Finishing': [0, 0], 'Inside Shot': [2, 2], 'Mid-Range': [1, 1], '3-Pointer': [0, 0]}, 'driving': [0, 0]}, {'name': 'Temple', 'playerCode': 202300, 'position': 'SG', 'shots': {'Finishing': [1, 1], 'Inside Shot': [1, 1], 'Mid-Range': [2, 3], '3-Pointer': [3, 4]}, 'driving': [0, 0]}, {'name': 'Smith', 'playerCode': 201430, 'position': 'C', 'shots': {'Finishing': [0, 0], 'Inside Shot': [3, 5], 'Mid-Range': [0, 0], '3-Pointer': [1, 1]}, 'driving': [0, 0]}], 'totalShots': {'Finishing': [3, 4], 'Inside Shot': [15, 19], 'Mid-Range': [7, 17], '3-Pointer': [6, 14]}, 'totalDriving': [4, 11], 'defense': {'man-to-man': {'Finishing': [0, 0], 'Inside Shot': [0, 1], 'Mid-Range': [0, 0], '3-Pointer': [0, 2], 'Turnovers': [0, 3]}, 'man-to-man defense packed': {'Finishing': [0, 0], 'Inside Shot': [0, 0], 'Mid-Range': [0, 0], '3-Pointer': [0, 0], 'Turnovers': [0, 0]}, 'man-to-man defense extended': {'Finishing': [1, 1], 'Inside Shot': [5, 6], 'Mid-Range': [5, 9], '3-Pointer': [4, 13], 'Turnovers': [4, 33]}, 'zone': {'Finishing': [0, 0], 'Inside Shot': [0, 0], 'Mid-Range': [0, 0], '3-Pointer': [1, 1], 'Turnovers': [1, 2]}, 'zone defense packed': {'Finishing': [0, 0], 'Inside Shot': [0, 0], 'Mid-Range': [0, 0], '3-Pointer': [0, 0], 'Turnovers': [0, 0]}, 'zone defense extended': {'Finishing': [1, 1], 'Inside Shot': [0, 0], 'Mid-Range': [1, 2], '3-Pointer': [1, 3], 'Turnovers': [2, 8]}, 'pressure': {'Finishing': [0, 1], 'Inside Shot': [0, 0], 'Mid-Range': [0, 1], '3-Pointer': [0, 1], 'Turnovers': [0, 3]}, 'transition': {'Finishing': [4, 4], 'Inside Shot': [0, 0], 'Mid-Range': [0, 0], '3-Pointer': [2, 3], 'Turnovers': [0, 7]}, 'half-court': {'Finishing': [0, 1], 'Inside Shot': [2, 2], 'Mid-Range': [2, 2], '3-Pointer': [1, 7], 'Turnovers': [4, 16]}}}, 'homeTeam': {'name': 'Assumption Greyhounds', 'teamCode': 533, 'players': [{'name': 'Pruitt', 'playerCode': 196605, 'position': 'SF', 'shots': {'Finishing': [0, 1], 'Inside Shot': [1, 1], 'Mid-Range': [3, 6], '3-Pointer': [0, 3]}, 'driving': [1, 1]}, {'name': 'Lewis', 'playerCode': 195977, 'position': 'PF', 'shots': {'Finishing': [0, 0], 'Inside Shot': [1, 1], 'Mid-Range': [2, 2], '3-Pointer': [2, 5]}, 'driving': [0, 1]}, {'name': 'Lay', 'playerCode': 199449, 'position': 'C', 'shots': {'Finishing': [0, 0], 'Inside Shot': [3, 3], 'Mid-Range': [0, 0], '3-Pointer': [0, 0]}, 'driving': [0, 0]}, {'name': 'Jaramillo', 'playerCode': 205369, 'position': 'SG', 'shots': {'Finishing': [1, 1], 'Inside Shot': [0, 0], 'Mid-Range': [1, 1], '3-Pointer': [2, 8]}, 'driving': [0, 0]}, {'name': 'Munoz', 'playerCode': 190887, 'position': 'PG', 'shots': {'Finishing': [3, 3], 'Inside Shot': [0, 0], 'Mid-Range': [0, 2], '3-Pointer': [0, 2]}, 'driving': [6, 11]}, {'name': 'Murphy', 'playerCode': 198167, 'position': 'PG', 'shots': {'Finishing': [1, 1], 'Inside Shot': [0, 0], 'Mid-Range': [0, 0], '3-Pointer': [2, 3]}, 'driving': [0, 0]}, {'name': 'Black', 'playerCode': 194948, 'position': 'SG', 'shots': {'Finishing': [0, 1], 'Inside Shot': [1, 1], 'Mid-Range': [1, 1], '3-Pointer': [0, 2]}, 'driving': [2, 4]}, {'name': 'Schwarz', 'playerCode': 205173, 'position': 'C', 'shots': {'Finishing': [0, 0], 'Inside Shot': [1, 2], 'Mid-Range': [0, 1], '3-Pointer': [0, 1]}, 'driving': [0, 0]}, {'name': 'Perkins', 'playerCode': 202447, 'position': 'SG', 'shots': {'Finishing': [1, 1], 'Inside Shot': [0, 1], 'Mid-Range': [1, 1], '3-Pointer': [3, 6]}, 'driving': [0, 0]}], 'totalShots': {'Finishing': [6, 8], 'Inside Shot': [7, 9], 'Mid-Range': [8, 14], '3-Pointer': [9, 30]}, 'totalDriving': [9, 17], 'defense': {'man-to-man': {'Finishing': [0, 0], 'Inside Shot': [4, 4], 'Mid-Range': [1, 4], '3-Pointer': [1, 2], 'Turnovers': [4, 14]}, 'man-to-man defense packed': {'Finishing': [0, 0], 'Inside Shot': [0, 0], 'Mid-Range': [0, 0], '3-Pointer': [0, 0], 'Turnovers': [0, 0]}, 'man-to-man defense extended': {'Finishing': [0, 0], 'Inside Shot': [1, 1], 'Mid-Range': [0, 0], '3-Pointer': [0, 1], 'Turnovers': [0, 2]}, 'zone': {'Finishing': [0, 0], 'Inside Shot': [1, 2], 'Mid-Range': [1, 5], '3-Pointer': [3, 5], 'Turnovers': [3, 15]}, 'zone defense packed': {'Finishing': [0, 0], 'Inside Shot': [0, 0], 'Mid-Range': [0, 0], '3-Pointer': [0, 0], 'Turnovers': [0, 0]}, 'zone defense extended': {'Finishing': [0, 0], 'Inside Shot': [0, 0], 'Mid-Range': [0, 0], '3-Pointer': [0, 0], 'Turnovers': [0, 0]}, 'pressure': {'Finishing': [0, 0], 'Inside Shot': [4, 6], 'Mid-Range': [2, 3], '3-Pointer': [2, 5], 'Turnovers': [3, 17]}, 'transition': {'Finishing': [3, 4], 'Inside Shot': [0, 0], 'Mid-Range': [2, 2], '3-Pointer': [0, 1], 'Turnovers': [0, 7]}, 'half-court': {'Finishing': [0, 0], 'Inside Shot': [5, 6], 'Mid-Range': [1, 3], '3-Pointer': [0, 0], 'Turnovers': [4, 13]}}}}\n",
    "game_id = int(game_data[\"gameCode\"])\n",
    "\n",
    "home_team_data = game_data[\"homeTeam\"]\n",
    "away_team_data = game_data[\"awayTeam\"]\n",
    "\n",
    "print(game_id)\n",
    "print(home_team_data)\n",
    "print(away_team_data)"
   ]
  },
  {
   "cell_type": "code",
   "execution_count": null,
   "metadata": {},
   "outputs": [
    {
     "name": "stdout",
     "output_type": "stream",
     "text": [
      "[1, 1]\n",
      "[0, 1]\n",
      "[0, 0]\n",
      "[0, 0]\n",
      "[6, 11]\n",
      "[0, 0]\n",
      "[2, 4]\n",
      "[0, 0]\n",
      "[0, 0]\n"
     ]
    },
    {
     "ename": "NameError",
     "evalue": "name 'helper' is not defined",
     "output_type": "error",
     "traceback": [
      "\u001b[1;31m---------------------------------------------------------------------------\u001b[0m",
      "\u001b[1;31mNameError\u001b[0m                                 Traceback (most recent call last)",
      "Cell \u001b[1;32mIn[32], line 41\u001b[0m\n\u001b[0;32m     39\u001b[0m player_id \u001b[38;5;241m=\u001b[39m player[\u001b[38;5;124m\"\u001b[39m\u001b[38;5;124mplayerCode\u001b[39m\u001b[38;5;124m\"\u001b[39m]\n\u001b[0;32m     40\u001b[0m player_shots \u001b[38;5;241m=\u001b[39m player[\u001b[38;5;124m\"\u001b[39m\u001b[38;5;124mshots\u001b[39m\u001b[38;5;124m\"\u001b[39m]\n\u001b[1;32m---> 41\u001b[0m \u001b[43mhelper\u001b[49m(player_id,game_id,player_shots)    \n",
      "\u001b[1;31mNameError\u001b[0m: name 'helper' is not defined"
     ]
    }
   ],
   "source": [
    "#Offensive Stats\n",
    "\n",
    "\n",
    "\n",
    "home_team_id = home_team_data[\"teamCode\"]\n",
    "away_team_id = away_team_data[\"teamCode\"]\n",
    "\n",
    "\n",
    "home_team_players = home_team_data[\"players\"] #array of players\n",
    "away_team_players = away_team_data[\"players\"]\n",
    "\n",
    "#{'name': 'Pruitt', 'playerCode': 196605, 'position': 'SF', 'shots': {'Finishing': [0, 1], 'Inside Shot': [1, 1], 'Mid-Range': [3, 6], '3-Pointer': [0, 3]}, 'driving': [1, 1]}\n",
    "\n",
    "def helper(player_id,game_id,player_shots,player_driving):\n",
    "    return PlayerStats(\n",
    "        player_id = player_id,\n",
    "        game_id=game_id,\n",
    "        fin_made = player_shots[\"Finishing\"][0],\n",
    "        fin_attempts = player_shots[\"Finishing\"][1],\n",
    "        is_made = player_shots[\"Inside Shot\"][0],\n",
    "        is_attempts = player_shots[\"Inside Shot\"][1],\n",
    "        mid_made = player_shots[\"Mid-Range\"][0],\n",
    "        mid_attempts = player_shots[\"Mid-Range\"][1],\n",
    "        _3p_made = player_shots[\"3-Pointer\"][0],\n",
    "        _3p_attempts = player_shots[\"3-Pointer\"][1],\n",
    "        dr_made = player_driving[0],\n",
    "        dr_attempts = player_driving[1])\n",
    "       \n",
    "\n",
    "for player in home_team_players:\n",
    "    player_name = player[\"name\"]\n",
    "    player_id = player[\"playerCode\"]\n",
    "    player_shots = player[\"shots\"]\n",
    "    player_driving = player[\"driving\"]\n",
    "    helper(player_id,game_id,player_shots,player_driving)\n",
    "    \n",
    "\n",
    "for player in away_team_players:\n",
    "    player_name = player[\"name\"]\n",
    "    player_id = player[\"playerCode\"]\n",
    "    player_shots = player[\"shots\"]\n",
    "    helper(player_id,game_id,player_shots,player_driving)    \n",
    "\n",
    "\n",
    "\n",
    "\n",
    "    "
   ]
  },
  {
   "cell_type": "code",
   "execution_count": null,
   "metadata": {},
   "outputs": [],
   "source": [
    "\n",
    "\n",
    "\n",
    "\n",
    "\n",
    "\n",
    "\n"
   ]
  }
 ],
 "metadata": {
  "kernelspec": {
   "display_name": "Python 3",
   "language": "python",
   "name": "python3"
  },
  "language_info": {
   "codemirror_mode": {
    "name": "ipython",
    "version": 3
   },
   "file_extension": ".py",
   "mimetype": "text/x-python",
   "name": "python",
   "nbconvert_exporter": "python",
   "pygments_lexer": "ipython3",
   "version": "3.10.11"
  }
 },
 "nbformat": 4,
 "nbformat_minor": 2
}
