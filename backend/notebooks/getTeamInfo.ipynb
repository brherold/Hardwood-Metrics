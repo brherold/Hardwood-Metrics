{
 "cells": [
  {
   "cell_type": "code",
   "execution_count": 17,
   "metadata": {},
   "outputs": [
    {
     "name": "stdout",
     "output_type": "stream",
     "text": [
      "564 Dominican Univ. of California\n"
     ]
    }
   ],
   "source": [
    "from bs4 import BeautifulSoup\n",
    "import requests\n",
    "\n",
    "teamURL = \"http://onlinecollegebasketball.org/team/564\"\n",
    "\n",
    "page = requests.get(teamURL)\n",
    "soup = BeautifulSoup(page.text, \"html.parser\")\n",
    "team_name = soup.find(\"div\", {\"id\":\"Main\"}).find(\"h1\").text\n",
    "\n",
    "\n",
    "name_id_soup = soup.find(\"div\", {\"id\":\"Main\"}).find_all(\"h3\")[0].text.replace(\"Team:  \",\"\")\n",
    "\n",
    "team_id= int(name_id_soup.replace(\"[\",\"\").replace(\"]\", \"\").replace(\" \", \"\").split(\"#\")[-1])\n",
    "print(team_id,team_name)"
   ]
  },
  {
   "cell_type": "code",
   "execution_count": null,
   "metadata": {},
   "outputs": [],
   "source": []
  }
 ],
 "metadata": {
  "kernelspec": {
   "display_name": "Python 3",
   "language": "python",
   "name": "python3"
  },
  "language_info": {
   "codemirror_mode": {
    "name": "ipython",
    "version": 3
   },
   "file_extension": ".py",
   "mimetype": "text/x-python",
   "name": "python",
   "nbconvert_exporter": "python",
   "pygments_lexer": "ipython3",
   "version": "3.10.11"
  }
 },
 "nbformat": 4,
 "nbformat_minor": 2
}
